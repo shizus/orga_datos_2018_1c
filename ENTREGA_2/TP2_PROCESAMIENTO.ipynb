{
 "cells": [
  {
   "cell_type": "code",
   "execution_count": 2,
   "metadata": {},
   "outputs": [],
   "source": [
    "## IMPORTACIÓN GENERAL DE LIBRERIAS Y VISUALIZACIÓN DE DATOS (matplotlib y seaborn)\n",
    "import pandas as pd\n",
    "import numpy as np\n",
    "import matplotlib.pyplot as plt\n",
    "import seaborn as sns\n",
    "import datetime as DT\n",
    "import warnings\n",
    "%matplotlib inline\n",
    "warnings.filterwarnings('ignore')\n",
    "plt.style.use('default') \n",
    "sns.set(style=\"whitegrid\") \n",
    "plt.rcParams['figure.figsize'] = (15, 10)"
   ]
  },
  {
   "cell_type": "markdown",
   "metadata": {},
   "source": [
    "#### ========================================================\n",
    "#### Procesamos los primeros archivos .CSV provistos por navent.\n",
    "#### ========================================================"
   ]
  },
  {
   "cell_type": "code",
   "execution_count": 36,
   "metadata": {},
   "outputs": [],
   "source": [
    "## OBTENEMOS TODA LA INFORMACIÓN DE LOS DIFERENTES CSV (TANDA ORIGINAL).\n",
    "educacion_1 = pd.read_csv('navent_fiuba_1/fiuba_1_postulantes_educacion.csv') ## memory usage: 46.0 MB\n",
    "edad_genero_1 = pd.read_csv('navent_fiuba_1/fiuba_2_postulantes_genero_y_edad.csv') ## memory usage: 29.7 MB\n",
    "vistas_avisos_1 = pd.read_csv('navent_fiuba_1/fiuba_3_vistas.csv') ## memory usage: 121.8 MB\n",
    "postulaciones_1 = pd.read_csv('navent_fiuba_1/fiuba_4_postulaciones.csv') ## memory usage: 401.6 MB\n",
    "avisos_online_1 = pd.read_csv('navent_fiuba_1/fiuba_5_avisos_online.csv') ## memory usage: 39.4 KB\n",
    "avisos_detalle_1 = pd.read_csv('navent_fiuba_1/fiuba_6_avisos_detalle.csv') ## memory usage: 24.3 MB"
   ]
  },
  {
   "cell_type": "code",
   "execution_count": 37,
   "metadata": {},
   "outputs": [],
   "source": [
    "## OBTENEMOS TODA LA INFORMACIÓN DE LOS DIFERENTES CSV (TANDA HASTA EL 15 DE ABRIL).\n",
    "educacion_2 = pd.read_csv('navent_fiuba_2/fiuba_1_postulantes_educacion.csv') ## memory usage: 62.9 MB\n",
    "edad_genero_2 = pd.read_csv('navent_fiuba_2/fiuba_2_postulantes_genero_y_edad.csv') ## memory usage: 43.8 MB\n",
    "vistas_avisos_2 = pd.read_csv('navent_fiuba_2/fiuba_3_vistas.csv') ## memory usage: 729.3 MB\n",
    "postulaciones_2 = pd.read_csv('navent_fiuba_2/fiuba_4_postulaciones.csv') ## memory usage: 579.6 MB\n",
    "avisos_online_2 = pd.read_csv('navent_fiuba_2/fiuba_5_avisos_online.csv') ## memory usage: 38.0 KB  \n",
    "avisos_detalle_2 = pd.read_csv('navent_fiuba_2/fiuba_6_avisos_detalle.csv') ## memory usage: 32.8 MB"
   ]
  },
  {
   "cell_type": "code",
   "execution_count": 35,
   "metadata": {},
   "outputs": [],
   "source": [
    "## OBTENEMOS TODA LA INFORMACIÓN DE LOS DIFERENTES CSV (TANDA DESDE EL 15 DE ABRIL).\n",
    "educacion_3 = pd.read_csv('navent_fiuba_3/fiuba_1_postulantes_educacion.csv') ## memory usage: 61.3 MB\n",
    "edad_genero_3 = pd.read_csv('navent_fiuba_3/fiuba_2_postulantes_genero_y_edad.csv') ## memory usage: 41.5 MB\n",
    "vistas_avisos_3 = pd.read_csv('navent_fiuba_3/fiuba_3_vistas.csv') ## memory usage: 1.4 GB\n",
    "avisos_detalle_3 = pd.read_csv('navent_fiuba_3/fiuba_6_avisos_detalle.csv') ## memory usage: 24.6 MB"
   ]
  },
  {
   "cell_type": "code",
   "execution_count": 7,
   "metadata": {},
   "outputs": [],
   "source": [
    "avisos_detalle_4 = pd.read_csv('navent_fiuba_4/fiuba_6_avisos_detalle_missing_nivel_laboral.csv') ## memory usage: 677.4 KB\n",
    "test_final = pd.read_csv('navent_fiuba_4/test_final_100k.csv') ## memory usage: 6.4 MB"
   ]
  },
  {
   "cell_type": "code",
   "execution_count": 6,
   "metadata": {},
   "outputs": [
    {
     "name": "stdout",
     "output_type": "stream",
     "text": [
      "<class 'pandas.core.frame.DataFrame'>\n",
      "RangeIndex: 338 entries, 0 to 337\n",
      "Data columns (total 11 columns):\n",
      "idaviso                 338 non-null int64\n",
      "idpais                  338 non-null int64\n",
      "titulo                  338 non-null object\n",
      "descripcion             338 non-null object\n",
      "nombre_zona             338 non-null object\n",
      "ciudad                  28 non-null object\n",
      "mapacalle               271 non-null object\n",
      "tipo_de_trabajo         338 non-null object\n",
      "nivel_laboral           3 non-null object\n",
      "nombre_area             338 non-null object\n",
      "denominacion_empresa    338 non-null object\n",
      "dtypes: int64(2), object(9)\n",
      "memory usage: 677.4 KB\n"
     ]
    }
   ],
   "source": [
    "avisos_detalle_4.info(memory_usage='deep')"
   ]
  },
  {
   "cell_type": "code",
   "execution_count": 38,
   "metadata": {},
   "outputs": [],
   "source": [
    "educacion_1 = ''\n",
    "edad_genero_1 = ''\n",
    "vistas_avisos_1 = ''\n",
    "postulaciones_1 = ''\n",
    "avisos_online_1 = ''\n",
    "avisos_detalle_1 = ''\n",
    "educacion_2 = ''\n",
    "edad_genero_2 = ''\n",
    "vistas_avisos_2 = ''\n",
    "postulaciones_2 = ''\n",
    "avisos_online_2 = ''\n",
    "avisos_detalle_2 = ''\n",
    "educacion_3 = ''\n",
    "edad_genero_3 = ''\n",
    "vistas_avisos_3 = ''\n",
    "avisos_detalle_3 = ''"
   ]
  },
  {
   "cell_type": "code",
   "execution_count": null,
   "metadata": {},
   "outputs": [],
   "source": []
  }
 ],
 "metadata": {
  "kernelspec": {
   "display_name": "Python 2",
   "language": "python",
   "name": "python2"
  },
  "language_info": {
   "codemirror_mode": {
    "name": "ipython",
    "version": 2
   },
   "file_extension": ".py",
   "mimetype": "text/x-python",
   "name": "python",
   "nbconvert_exporter": "python",
   "pygments_lexer": "ipython2",
   "version": "2.7.14"
  }
 },
 "nbformat": 4,
 "nbformat_minor": 2
}
